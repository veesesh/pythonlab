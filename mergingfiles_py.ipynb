{
  "nbformat": 4,
  "nbformat_minor": 0,
  "metadata": {
    "colab": {
      "provenance": [],
      "authorship_tag": "ABX9TyO0q0fLSQHSg0DFCKgLSaAu",
      "include_colab_link": true
    },
    "kernelspec": {
      "name": "python3",
      "display_name": "Python 3"
    },
    "language_info": {
      "name": "python"
    }
  },
  "cells": [
    {
      "cell_type": "markdown",
      "metadata": {
        "id": "view-in-github",
        "colab_type": "text"
      },
      "source": [
        "<a href=\"https://colab.research.google.com/github/veesesh/pythonlab/blob/main/mergingfiles_py.ipynb\" target=\"_parent\"><img src=\"https://colab.research.google.com/assets/colab-badge.svg\" alt=\"Open In Colab\"/></a>"
      ]
    },
    {
      "cell_type": "code",
      "execution_count": 2,
      "metadata": {
        "colab": {
          "base_uri": "https://localhost:8080/"
        },
        "id": "pVHEwxU0JtT5",
        "outputId": "55d05876-1275-462a-89c4-3bde15b64718"
      },
      "outputs": [
        {
          "output_type": "stream",
          "name": "stdout",
          "text": [
            "Enter x for exit\n",
            "Enter first file to mergefile1.txt\n",
            "Enter second file to mergefile2.txt\n",
            "Create a new file to merge content of two filesfile3.txt\n",
            "\n",
            "Merging the conent of two files in file3.txt\n",
            "\n",
            "Content merged\n",
            "Want to see ?(y/n):\n",
            "y\n",
            "\n",
            "this is file 1\n",
            "this is file2\n",
            "\n"
          ]
        }
      ],
      "source": [
        "import shutil\n",
        "print(\"Enter x for exit\")\n",
        "file1 = input(\"Enter first file to merge\")\n",
        "\n",
        "if file1 == 'x':\n",
        " exit()\n",
        "else :\n",
        "    file2 = input(\"Enter second file to merge\")\n",
        "    file3 = input(\"Create a new file to merge content of two files\")\n",
        "    print()\n",
        "    print(\"Merging the conent of two files in\",file3)\n",
        "    with open(file3, \"wb\") as wfd:\n",
        "        for f in[file1,file2]:\n",
        "            with open(f,\"rb\")as fd:\n",
        "                shutil.copyfileobj(fd,wfd,1024*1024*10)\n",
        "    print(\"\\nContent merged\")\n",
        "    print(\"Want to see ?(y/n):\")\n",
        "    check = input()\n",
        "    if check =='n':\n",
        "        exit()\n",
        "    else:\n",
        "        print()\n",
        "        c = open(file3,\"r\")\n",
        "        print(c.read())\n",
        "        c.close()"
      ]
    }
  ]
}